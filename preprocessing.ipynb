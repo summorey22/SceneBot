{
 "cells": [
  {
   "cell_type": "code",
   "execution_count": 2,
   "metadata": {},
   "outputs": [
    {
     "name": "stderr",
     "output_type": "stream",
     "text": [
      "2023-02-11 11:02:44.240653: I tensorflow/core/platform/cpu_feature_guard.cc:193] This TensorFlow binary is optimized with oneAPI Deep Neural Network Library (oneDNN) to use the following CPU instructions in performance-critical operations:  AVX2 AVX512F AVX512_VNNI FMA\n",
      "To enable them in other operations, rebuild TensorFlow with the appropriate compiler flags.\n",
      "2023-02-11 11:02:44.355217: I tensorflow/core/util/port.cc:104] oneDNN custom operations are on. You may see slightly different numerical results due to floating-point round-off errors from different computation orders. To turn them off, set the environment variable `TF_ENABLE_ONEDNN_OPTS=0`.\n",
      "2023-02-11 11:02:44.357688: W tensorflow/compiler/xla/stream_executor/platform/default/dso_loader.cc:64] Could not load dynamic library 'libcudart.so.11.0'; dlerror: libcudart.so.11.0: cannot open shared object file: No such file or directory; LD_LIBRARY_PATH: /home/sumit/miniconda3/envs/scdt/lib/python3.10/site-packages/cv2/../../lib64:\n",
      "2023-02-11 11:02:44.357700: I tensorflow/compiler/xla/stream_executor/cuda/cudart_stub.cc:29] Ignore above cudart dlerror if you do not have a GPU set up on your machine.\n",
      "2023-02-11 11:02:44.788647: W tensorflow/compiler/xla/stream_executor/platform/default/dso_loader.cc:64] Could not load dynamic library 'libnvinfer.so.7'; dlerror: libnvinfer.so.7: cannot open shared object file: No such file or directory; LD_LIBRARY_PATH: /home/sumit/miniconda3/envs/scdt/lib/python3.10/site-packages/cv2/../../lib64:\n",
      "2023-02-11 11:02:44.788690: W tensorflow/compiler/xla/stream_executor/platform/default/dso_loader.cc:64] Could not load dynamic library 'libnvinfer_plugin.so.7'; dlerror: libnvinfer_plugin.so.7: cannot open shared object file: No such file or directory; LD_LIBRARY_PATH: /home/sumit/miniconda3/envs/scdt/lib/python3.10/site-packages/cv2/../../lib64:\n",
      "2023-02-11 11:02:44.788694: W tensorflow/compiler/tf2tensorrt/utils/py_utils.cc:38] TF-TRT Warning: Cannot dlopen some TensorRT libraries. If you would like to use Nvidia GPU with TensorRT, please make sure the missing libraries mentioned above are installed properly.\n"
     ]
    }
   ],
   "source": [
    "import os\n",
    "import cv2\n",
    "import keras.utils\n",
    "from tensorflow.keras.preprocessing.image import ImageDataGenerator\n",
    "from tensorflow.keras.preprocessing.image import img_to_array\n",
    "from tensorflow.keras.preprocessing.image import load_img\n"
   ]
  },
  {
   "cell_type": "code",
   "execution_count": 1,
   "metadata": {},
   "outputs": [],
   "source": [
    "temp = ['Mueseum', 'Kitchen', 'GroceryStore', 'LivingRoom', 'Mall', 'Supermarket', 'Autorickshaw']"
   ]
  },
  {
   "attachments": {},
   "cell_type": "markdown",
   "metadata": {},
   "source": [
    "# Resizing"
   ]
  },
  {
   "cell_type": "code",
   "execution_count": 3,
   "metadata": {},
   "outputs": [
    {
     "name": "stdout",
     "output_type": "stream",
     "text": [
      "26 (2).jpg\n",
      "BAN (13).jpg\n"
     ]
    },
    {
     "name": "stderr",
     "output_type": "stream",
     "text": [
      "libpng warning: iCCP: known incorrect sRGB profile\n"
     ]
    },
    {
     "name": "stdout",
     "output_type": "stream",
     "text": [
      "41.jpg\n",
      "49.jpg\n",
      "raspberries (20).jpg\n",
      "Guava (24).jpg\n",
      "Pineapples (11).jpg\n"
     ]
    },
    {
     "name": "stderr",
     "output_type": "stream",
     "text": [
      "libpng warning: iCCP: known incorrect sRGB profile\n"
     ]
    },
    {
     "name": "stdout",
     "output_type": "stream",
     "text": [
      "Cherry (10).jpg\n",
      "grocerypic2_gif.jpg\n"
     ]
    },
    {
     "name": "stderr",
     "output_type": "stream",
     "text": [
      "libpng warning: iCCP: known incorrect sRGB profile\n"
     ]
    },
    {
     "name": "stdout",
     "output_type": "stream",
     "text": [
      "city_stars_mall_egyptgif_gif.jpg\n"
     ]
    }
   ],
   "source": [
    "\n",
    "for i in temp:\n",
    "    count = 0\n",
    "    for j in os.listdir('./Dataset/Original/' + i):\n",
    "        try:\n",
    "            cv2.imwrite(\n",
    "            './Dataset/Resized/' + i + '/' + str(count) + '.jpg',\n",
    "                cv2.resize(\n",
    "                    cv2.imread('./Dataset/Original/' + i + '/' + j, 0),\n",
    "                    (128, 128),\n",
    "                ),\n",
    "            )\n",
    "            count += 1\n",
    "\n",
    "        except:\n",
    "            print(j)\n"
   ]
  },
  {
   "attachments": {},
   "cell_type": "markdown",
   "metadata": {},
   "source": [
    "# Augmentation"
   ]
  },
  {
   "cell_type": "code",
   "execution_count": null,
   "metadata": {},
   "outputs": [],
   "source": [
    "for i in temp:\n",
    "\n",
    "    datagen = ImageDataGenerator(\n",
    "        rotation_range=30,\n",
    "        zoom_range=0.15,\n",
    "        width_shift_range=0.2,\n",
    "        height_shift_range=0.2,\n",
    "        shear_range=0.15,\n",
    "        horizontal_flip=True,\n",
    "        fill_mode=\"nearest\",\n",
    "    )\n",
    "    for j in os.listdir('./Dataset/Resized/' + i):\n",
    "        pic = load_img('./Dataset/Resized/' + i + '/' + j)\n",
    "        pic.getpixel\n",
    "        pic_array = img_to_array(pic)\n",
    "        pic_array = pic_array.reshape((1,) + pic_array.shape)\n",
    "\n",
    "        count = 0\n",
    "        for batch in datagen.flow( pic_array, batch_size = 1, save_to_dir = './Dataset/Augmented/' + i,  save_prefix=i, save_format='jpg'):\n",
    "            count += 1\n",
    "            if count >= 10:\n",
    "                break\n"
   ]
  }
 ],
 "metadata": {
  "kernelspec": {
   "display_name": "scdt",
   "language": "python",
   "name": "python3"
  },
  "language_info": {
   "codemirror_mode": {
    "name": "ipython",
    "version": 3
   },
   "file_extension": ".py",
   "mimetype": "text/x-python",
   "name": "python",
   "nbconvert_exporter": "python",
   "pygments_lexer": "ipython3",
   "version": "3.10.9"
  },
  "orig_nbformat": 4,
  "vscode": {
   "interpreter": {
    "hash": "2def7e6b64ac76d5a1871991a471fc3f43651d1da2d2d8ab819497a52e3540e9"
   }
  }
 },
 "nbformat": 4,
 "nbformat_minor": 2
}
