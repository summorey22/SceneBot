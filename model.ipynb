{
 "cells": [
  {
   "cell_type": "code",
   "execution_count": 1,
   "metadata": {},
   "outputs": [
    {
     "name": "stderr",
     "output_type": "stream",
     "text": [
      "2023-02-07 02:32:39.065043: I tensorflow/core/platform/cpu_feature_guard.cc:193] This TensorFlow binary is optimized with oneAPI Deep Neural Network Library (oneDNN) to use the following CPU instructions in performance-critical operations:  AVX2 AVX512F AVX512_VNNI FMA\n",
      "To enable them in other operations, rebuild TensorFlow with the appropriate compiler flags.\n",
      "2023-02-07 02:32:39.430704: I tensorflow/core/util/port.cc:104] oneDNN custom operations are on. You may see slightly different numerical results due to floating-point round-off errors from different computation orders. To turn them off, set the environment variable `TF_ENABLE_ONEDNN_OPTS=0`.\n",
      "2023-02-07 02:32:39.492513: W tensorflow/compiler/xla/stream_executor/platform/default/dso_loader.cc:64] Could not load dynamic library 'libcudart.so.11.0'; dlerror: libcudart.so.11.0: cannot open shared object file: No such file or directory; LD_LIBRARY_PATH: /home/sumit/miniconda3/envs/scdt/lib/python3.10/site-packages/cv2/../../lib64:\n",
      "2023-02-07 02:32:39.492542: I tensorflow/compiler/xla/stream_executor/cuda/cudart_stub.cc:29] Ignore above cudart dlerror if you do not have a GPU set up on your machine.\n",
      "2023-02-07 02:32:40.479467: W tensorflow/compiler/xla/stream_executor/platform/default/dso_loader.cc:64] Could not load dynamic library 'libnvinfer.so.7'; dlerror: libnvinfer.so.7: cannot open shared object file: No such file or directory; LD_LIBRARY_PATH: /home/sumit/miniconda3/envs/scdt/lib/python3.10/site-packages/cv2/../../lib64:\n",
      "2023-02-07 02:32:40.479528: W tensorflow/compiler/xla/stream_executor/platform/default/dso_loader.cc:64] Could not load dynamic library 'libnvinfer_plugin.so.7'; dlerror: libnvinfer_plugin.so.7: cannot open shared object file: No such file or directory; LD_LIBRARY_PATH: /home/sumit/miniconda3/envs/scdt/lib/python3.10/site-packages/cv2/../../lib64:\n",
      "2023-02-07 02:32:40.479533: W tensorflow/compiler/tf2tensorrt/utils/py_utils.cc:38] TF-TRT Warning: Cannot dlopen some TensorRT libraries. If you would like to use Nvidia GPU with TensorRT, please make sure the missing libraries mentioned above are installed properly.\n"
     ]
    }
   ],
   "source": [
    "import os\n",
    "import cv2\n",
    "import pandas as pd\n",
    "import numpy as np\n",
    "import tensorflow as tf\n",
    "from tensorflow.keras.preprocessing.image import ImageDataGenerator\n",
    "from tensorflow.keras.preprocessing.image import img_to_array\n",
    "from tensorflow.keras.preprocessing.image import load_img\n",
    "from sklearn.model_selection import train_test_split"
   ]
  },
  {
   "cell_type": "code",
   "execution_count": 2,
   "metadata": {},
   "outputs": [],
   "source": [
    "temp = ['Kitchen', 'LivingRoom']\n",
    "\n",
    "X = []  # the features, or inputs\n",
    "Y = []  # the labels, or outputs\n",
    "\n",
    "for i in temp:\n",
    "    for j in os.listdir('./Dataset/Augmented/' + i):\n",
    "        image = load_img('./Dataset/Augmented/' + i + '/' + j, target_size=(128, 128))\n",
    "        input_arr = img_to_array(image)\n",
    "        input_arr = np.array(input_arr)\n",
    "        X.append(input_arr)\n",
    "        Y.append(temp.index(i))\n",
    "\n",
    "X = np.array(X)\n",
    "Y = np.array(Y)"
   ]
  },
  {
   "cell_type": "code",
   "execution_count": 3,
   "metadata": {},
   "outputs": [],
   "source": [
    "# Load and preprocess your data\n",
    "\n",
    "x_train, x_test, y_train, y_test = train_test_split(X, Y, \n",
    "                                                      test_size=0.3, \n",
    "                                                      stratify=Y, \n",
    "                                                      random_state=8)\n",
    "\n",
    "x_train, x_test = x_train / 255.0, x_test / 255.0\n",
    "y_train, y_test = tf.keras.utils.to_categorical(y_train, 10), tf.keras.utils.to_categorical(y_test, 10)"
   ]
  },
  {
   "cell_type": "code",
   "execution_count": 5,
   "metadata": {},
   "outputs": [
    {
     "name": "stdout",
     "output_type": "stream",
     "text": [
      "Epoch 1/10\n",
      "279/279 [==============================] - 48s 172ms/step - loss: 0.6918 - accuracy: 0.5986 - val_loss: 0.6780 - val_accuracy: 0.5928\n",
      "Epoch 2/10\n",
      "279/279 [==============================] - 50s 178ms/step - loss: 0.6441 - accuracy: 0.6310 - val_loss: 0.6343 - val_accuracy: 0.6483\n",
      "Epoch 3/10\n",
      "279/279 [==============================] - 49s 177ms/step - loss: 0.6137 - accuracy: 0.6621 - val_loss: 0.6224 - val_accuracy: 0.6493\n",
      "Epoch 4/10\n",
      "279/279 [==============================] - 49s 177ms/step - loss: 0.5800 - accuracy: 0.6980 - val_loss: 0.6182 - val_accuracy: 0.6548\n",
      "Epoch 5/10\n",
      "279/279 [==============================] - 50s 180ms/step - loss: 0.5350 - accuracy: 0.7274 - val_loss: 0.6426 - val_accuracy: 0.6621\n",
      "Epoch 6/10\n",
      "279/279 [==============================] - 51s 182ms/step - loss: 0.4848 - accuracy: 0.7650 - val_loss: 0.6658 - val_accuracy: 0.6247\n",
      "Epoch 7/10\n",
      "279/279 [==============================] - 49s 176ms/step - loss: 0.4224 - accuracy: 0.8004 - val_loss: 0.6699 - val_accuracy: 0.6475\n",
      "Epoch 8/10\n",
      "279/279 [==============================] - 49s 176ms/step - loss: 0.3549 - accuracy: 0.8424 - val_loss: 0.6954 - val_accuracy: 0.6716\n",
      "Epoch 9/10\n",
      "279/279 [==============================] - 49s 176ms/step - loss: 0.2928 - accuracy: 0.8768 - val_loss: 0.7689 - val_accuracy: 0.6483\n",
      "Epoch 10/10\n",
      "279/279 [==============================] - 49s 176ms/step - loss: 0.2249 - accuracy: 0.9077 - val_loss: 0.9936 - val_accuracy: 0.6663\n",
      "Test Accuracy: 0.6663177013397217\n"
     ]
    }
   ],
   "source": [
    "# Define the model architecture\n",
    "model = tf.keras.models.Sequential([\n",
    "    tf.keras.layers.Conv2D(32, (3, 3), activation='relu', input_shape=(128, 128, 3)),\n",
    "    tf.keras.layers.MaxPooling2D((2, 2)),\n",
    "    tf.keras.layers.Conv2D(64, (3, 3), activation='relu'),\n",
    "    tf.keras.layers.MaxPooling2D((2, 2)),\n",
    "    tf.keras.layers.Flatten(),\n",
    "    tf.keras.layers.Dropout(0.5),\n",
    "    tf.keras.layers.Dense(64, activation='relu'),\n",
    "    tf.keras.layers.Dense(10, activation='softmax')\n",
    "])\n",
    "\n",
    "# Compile the model\n",
    "model.compile(optimizer='adam',\n",
    "              loss='categorical_crossentropy',\n",
    "              metrics=['accuracy'])\n",
    "\n",
    "# Train the model\n",
    "history = model.fit(x_train, y_train, epochs=10, batch_size=32, validation_data=(x_test, y_test))\n",
    "\n",
    "# Evaluate the model\n",
    "test_loss, test_acc = model.evaluate(x_test, y_test, verbose=0)\n",
    "print('Test Accuracy:', test_acc)\n"
   ]
  }
 ],
 "metadata": {
  "kernelspec": {
   "display_name": "scdt",
   "language": "python",
   "name": "python3"
  },
  "language_info": {
   "codemirror_mode": {
    "name": "ipython",
    "version": 3
   },
   "file_extension": ".py",
   "mimetype": "text/x-python",
   "name": "python",
   "nbconvert_exporter": "python",
   "pygments_lexer": "ipython3",
   "version": "3.10.9"
  },
  "orig_nbformat": 4,
  "vscode": {
   "interpreter": {
    "hash": "2def7e6b64ac76d5a1871991a471fc3f43651d1da2d2d8ab819497a52e3540e9"
   }
  }
 },
 "nbformat": 4,
 "nbformat_minor": 2
}
